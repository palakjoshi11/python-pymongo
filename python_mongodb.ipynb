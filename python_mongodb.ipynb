{
 "cells": [
  {
   "cell_type": "markdown",
   "id": "5ca8513f",
   "metadata": {},
   "source": [
    "## Connect to mongodb - pymongo"
   ]
  },
  {
   "cell_type": "markdown",
   "id": "2468951a",
   "metadata": {},
   "source": [
    "\n",
    "1. \n",
    "    pip install pymongo[srv]\n",
    "    or \n",
    "    pip install pymongo\n",
    "\n",
    "2. pip install dnspython\n",
    "\n",
    "3. Mongodb have several sample collection, in this code we will use sample_airbnb collection.\n",
    "\n",
    "4. Convert mongodb json document into table format(csv)\n",
    "\n",
    "6. Cleaning that data \n",
    "\n",
    "7. Applying Data visualization concept.\n"
   ]
  },
  {
   "cell_type": "code",
   "execution_count": null,
   "id": "534d69d4",
   "metadata": {},
   "outputs": [],
   "source": [
    "from pymongo import MongoClient"
   ]
  },
  {
   "cell_type": "code",
   "execution_count": null,
   "id": "20da976b",
   "metadata": {},
   "outputs": [],
   "source": [
    "from pprint import pprint\n",
    "# pprint library which is not related to MongoDB \n",
    "#but is used here only to make the output structured and visually appealing from a console."
   ]
  },
  {
   "cell_type": "code",
   "execution_count": null,
   "id": "75c214df",
   "metadata": {},
   "outputs": [],
   "source": [
    "CONNECTION_STRING = \"mongodb+srv://<userName>:<password>@<clusterName>.mongodb.net/sample_airbnb\"\n",
    "client = MongoClient(CONNECTION_STRING)"
   ]
  },
  {
   "cell_type": "markdown",
   "id": "da2e539a",
   "metadata": {},
   "source": [
    "If getting an error , Restart Kernal! \n",
    "\n",
    "\n",
    "------------> RESTART KERNAL <-------------"
   ]
  },
  {
   "cell_type": "code",
   "execution_count": null,
   "id": "f855939c",
   "metadata": {},
   "outputs": [],
   "source": [
    "db = client['sample_airbnb']"
   ]
  },
  {
   "cell_type": "code",
   "execution_count": null,
   "id": "99bef7d2",
   "metadata": {},
   "outputs": [],
   "source": [
    "collections = db.list_collection_names()\n",
    "print (\"collections:\", collections, \"\\n\")\n",
    "# Print all the collection present in sample_airbnb"
   ]
  },
  {
   "cell_type": "code",
   "execution_count": null,
   "id": "09a72f53",
   "metadata": {},
   "outputs": [],
   "source": [
    "collection = db[\"listingsAndReviews\"]"
   ]
  },
  {
   "cell_type": "code",
   "execution_count": null,
   "id": "8709b4b6",
   "metadata": {},
   "outputs": [],
   "source": [
    "collection.find_one()"
   ]
  },
  {
   "cell_type": "code",
   "execution_count": null,
   "id": "c5f986c0",
   "metadata": {},
   "outputs": [],
   "source": [
    "query=[\n",
    "    {\n",
    "        '$project':\n",
    "        {\n",
    "            'accommodates':1,\n",
    "            '_id':0\n",
    "        }\n",
    "    }\n",
    "]\n",
    "l=collection.aggregate(query)\n",
    "l2=[]\n",
    "for i in l:\n",
    "  #  print(i[\"accommodates\"])\n",
    "    l2.append(i[\"accommodates\"])\n",
    "\n",
    "l2"
   ]
  },
  {
   "cell_type": "code",
   "execution_count": null,
   "id": "b4e63385",
   "metadata": {},
   "outputs": [],
   "source": [
    "import seaborn as sns"
   ]
  },
  {
   "cell_type": "code",
   "execution_count": null,
   "id": "8f05b032",
   "metadata": {},
   "outputs": [],
   "source": [
    "sns.countplot(l2)"
   ]
  },
  {
   "cell_type": "code",
   "execution_count": null,
   "id": "a4e95dea",
   "metadata": {},
   "outputs": [],
   "source": [
    "print(collection.distinct('address.country'))"
   ]
  },
  {
   "cell_type": "markdown",
   "id": "fce8c4ec",
   "metadata": {},
   "source": [
    "What if we want to work with csv rather than json. \n",
    "For the purpose of data visalization."
   ]
  },
  {
   "cell_type": "code",
   "execution_count": null,
   "id": "775e314d",
   "metadata": {},
   "outputs": [],
   "source": [
    "new_df=[]\n",
    "for x in collection.find({},{\"_id\":0,\"name\":1,\"bedrooms\":1,\"beds\":1,\"price\":1,\n",
    "                             \"review_scores.review_scores_accuracy\":1,\n",
    "                            \"review_scores.review_scores_cleanliness\":1,\n",
    "                            \"review_scores.review_scores_checkin\":1,\n",
    "                            \"review_scores.review_scores_communication\":1,\n",
    "                            \"review_scores.review_scores_location\":1,\n",
    "                            \"review_scores.review_scores_value\":1,\n",
    "                            \"review_scores.review_scores_rating\":1}).limit(40):\n",
    "    new_df.append(x)"
   ]
  },
  {
   "cell_type": "code",
   "execution_count": null,
   "id": "cb939c9d",
   "metadata": {},
   "outputs": [],
   "source": [
    "new_df"
   ]
  },
  {
   "cell_type": "code",
   "execution_count": null,
   "id": "8db93fad",
   "metadata": {},
   "outputs": [],
   "source": [
    "from pandas import json_normalize\n",
    "df = json_normalize(new_df)"
   ]
  },
  {
   "cell_type": "code",
   "execution_count": null,
   "id": "43a30a99",
   "metadata": {},
   "outputs": [],
   "source": [
    "import pandas as pd"
   ]
  },
  {
   "cell_type": "markdown",
   "id": "1ff25e29",
   "metadata": {},
   "source": [
    "Converting onto pandas dataframe so that we can perform it's functions."
   ]
  },
  {
   "cell_type": "code",
   "execution_count": null,
   "id": "96fffa8e",
   "metadata": {},
   "outputs": [],
   "source": [
    "pd.DataFrame(df)"
   ]
  },
  {
   "cell_type": "code",
   "execution_count": null,
   "id": "3564494b",
   "metadata": {},
   "outputs": [],
   "source": [
    "df.head()"
   ]
  },
  {
   "cell_type": "code",
   "execution_count": null,
   "id": "7acbbb23",
   "metadata": {},
   "outputs": [],
   "source": [
    "df=df.rename(columns = {'review_scores.review_scores_accuracy':'accuracy_score', \n",
    "                        'review_scores.review_scores_cleanliness':'cleanliness_score',\n",
    "                        'review_scores.review_scores_checkin':'checkin_score',\n",
    "                        'review_scores.review_scores_communication':'communication_score',\n",
    "                        'review_scores.review_scores_location':'location_score',\n",
    "                        'review_scores.review_scores_value':'value_score',\n",
    "                        'review_scores.review_scores_rating':'rating_score'})"
   ]
  },
  {
   "cell_type": "code",
   "execution_count": null,
   "id": "fbb3e36a",
   "metadata": {},
   "outputs": [],
   "source": [
    "df.shape"
   ]
  },
  {
   "cell_type": "code",
   "execution_count": null,
   "id": "15d7d1fc",
   "metadata": {},
   "outputs": [],
   "source": [
    "df.describe()"
   ]
  },
  {
   "cell_type": "markdown",
   "id": "eb4275f2",
   "metadata": {},
   "source": [
    "While using the describe () we can notice that 'price' column is not present which means it is not saved as numerical value.\n",
    "We need to convert it into float "
   ]
  },
  {
   "cell_type": "code",
   "execution_count": null,
   "id": "3e376934",
   "metadata": {},
   "outputs": [],
   "source": [
    "df.price.dtype"
   ]
  },
  {
   "cell_type": "code",
   "execution_count": null,
   "id": "f49807cf",
   "metadata": {},
   "outputs": [],
   "source": [
    "df[\"price\"] = df.price.astype(str).astype(float)"
   ]
  },
  {
   "cell_type": "code",
   "execution_count": null,
   "id": "fd678107",
   "metadata": {},
   "outputs": [],
   "source": [
    "df.price.dtype"
   ]
  },
  {
   "cell_type": "code",
   "execution_count": null,
   "id": "6d5fba36",
   "metadata": {},
   "outputs": [],
   "source": [
    "df.describe()"
   ]
  },
  {
   "cell_type": "code",
   "execution_count": null,
   "id": "e7011ee2",
   "metadata": {},
   "outputs": [],
   "source": [
    "df.isna().sum()"
   ]
  },
  {
   "cell_type": "markdown",
   "id": "338752b1",
   "metadata": {},
   "source": [
    "From total 40 rows 15 have nan value"
   ]
  },
  {
   "cell_type": "code",
   "execution_count": null,
   "id": "53ed9310",
   "metadata": {},
   "outputs": [],
   "source": [
    "df.isnull().sum(axis=1)"
   ]
  },
  {
   "cell_type": "code",
   "execution_count": null,
   "id": "874470f1",
   "metadata": {},
   "outputs": [],
   "source": [
    "df = df.dropna(thresh=7)\n",
    "# we used thresh = 7 inside the df.dropna() function which means \n",
    "#it will drop all those rows where Nan values are 7 or more than 7\n",
    "    "
   ]
  },
  {
   "cell_type": "code",
   "execution_count": null,
   "id": "38b932d4",
   "metadata": {},
   "outputs": [],
   "source": [
    "# Resetting the indices using df.reset_index()\n",
    "df = df.reset_index(drop=True)"
   ]
  },
  {
   "cell_type": "code",
   "execution_count": null,
   "id": "3d64e74c",
   "metadata": {},
   "outputs": [],
   "source": [
    "df.shape"
   ]
  },
  {
   "cell_type": "code",
   "execution_count": null,
   "id": "40177f6f",
   "metadata": {
    "scrolled": true
   },
   "outputs": [],
   "source": [
    "df.isna().sum()"
   ]
  },
  {
   "cell_type": "code",
   "execution_count": null,
   "id": "bb47e483",
   "metadata": {},
   "outputs": [],
   "source": [
    "df.info()"
   ]
  },
  {
   "cell_type": "code",
   "execution_count": null,
   "id": "32dcfa67",
   "metadata": {},
   "outputs": [],
   "source": [
    "import seaborn as sns"
   ]
  },
  {
   "cell_type": "code",
   "execution_count": null,
   "id": "85d5a8cf",
   "metadata": {},
   "outputs": [],
   "source": [
    "sns.barplot(x='price',y='accuracy_score', data=df)"
   ]
  },
  {
   "cell_type": "code",
   "execution_count": null,
   "id": "b4dbaea9",
   "metadata": {},
   "outputs": [],
   "source": [
    "sns.heatmap(df.corr(), center=0, cmap='BrBG', annot=True)"
   ]
  },
  {
   "cell_type": "code",
   "execution_count": null,
   "id": "bef6edf1",
   "metadata": {},
   "outputs": [],
   "source": []
  }
 ],
 "metadata": {
  "kernelspec": {
   "display_name": "Python 3",
   "language": "python",
   "name": "python3"
  },
  "language_info": {
   "codemirror_mode": {
    "name": "ipython",
    "version": 3
   },
   "file_extension": ".py",
   "mimetype": "text/x-python",
   "name": "python",
   "nbconvert_exporter": "python",
   "pygments_lexer": "ipython3",
   "version": "3.9.2"
  }
 },
 "nbformat": 4,
 "nbformat_minor": 5
}
