{
 "cells": [
  {
   "cell_type": "markdown",
   "id": "5ca8513f",
   "metadata": {},
   "source": [
    "## Connect to mongodb - pymongo"
   ]
  },
  {
   "cell_type": "markdown",
   "id": "2468951a",
   "metadata": {},
   "source": [
    "\n",
    "1. \n",
    "    pip install pymongo[srv]\n",
    "    or \n",
    "    pip install pymongo\n",
    "\n",
    "2. pip install dnspython\n",
    "\n",
    "3. Mongodb have several sample collection, in this code we will use sample_airbnb collection.\n",
    "\n"
   ]
  },
  {
   "cell_type": "code",
   "execution_count": null,
   "id": "534d69d4",
   "metadata": {},
   "outputs": [],
   "source": [
    "from pymongo import MongoClient"
   ]
  },
  {
   "cell_type": "code",
   "execution_count": null,
   "id": "20da976b",
   "metadata": {},
   "outputs": [],
   "source": [
    "from pprint import pprint\n",
    "# pprint library which is not related to MongoDB \n",
    "#but is used here only to make the output structured and visually appealing from a console."
   ]
  },
  {
   "cell_type": "code",
   "execution_count": null,
   "id": "75c214df",
   "metadata": {},
   "outputs": [],
   "source": [
    "CONNECTION_STRING = \"mongodb+srv://<userName>:<password>@cluster0.7j93r.mongodb.net/sample_airbnb\"\n",
    "client = MongoClient(CONNECTION_STRING)"
   ]
  },
  {
   "cell_type": "markdown",
   "id": "da2e539a",
   "metadata": {},
   "source": [
    "If getting an error , Restart Kernal! \n",
    "\n",
    "\n",
    "------------> RESTART KERNAL <-------------"
   ]
  },
  {
   "cell_type": "code",
   "execution_count": null,
   "id": "f855939c",
   "metadata": {},
   "outputs": [],
   "source": [
    "db = client['sample_airbnb']"
   ]
  },
  {
   "cell_type": "code",
   "execution_count": null,
   "id": "99bef7d2",
   "metadata": {},
   "outputs": [],
   "source": [
    "collections = db.list_collection_names()\n",
    "print (\"collections:\", collections, \"\\n\")\n",
    "# Print all the collection present in sample_airbnb"
   ]
  },
  {
   "cell_type": "code",
   "execution_count": null,
   "id": "09a72f53",
   "metadata": {},
   "outputs": [],
   "source": [
    "collection = db[\"listingsAndReviews\"]"
   ]
  },
  {
   "cell_type": "code",
   "execution_count": null,
   "id": "8709b4b6",
   "metadata": {},
   "outputs": [],
   "source": [
    "collection.find_one()"
   ]
  },
  {
   "cell_type": "code",
   "execution_count": null,
   "id": "c5f986c0",
   "metadata": {},
   "outputs": [],
   "source": [
    "query=[\n",
    "    {\n",
    "        '$project':\n",
    "        {\n",
    "            'accommodates':1,\n",
    "            '_id':0\n",
    "        }\n",
    "    }\n",
    "]\n",
    "l=collection.aggregate(query)\n",
    "l2=[]\n",
    "for i in l:\n",
    "  #  print(i[\"accommodates\"])\n",
    "    l2.append(i[\"accommodates\"])\n",
    "\n",
    "l2"
   ]
  },
  {
   "cell_type": "code",
   "execution_count": null,
   "id": "b4e63385",
   "metadata": {},
   "outputs": [],
   "source": [
    "import seaborn as sns"
   ]
  },
  {
   "cell_type": "code",
   "execution_count": null,
   "id": "8f05b032",
   "metadata": {},
   "outputs": [],
   "source": [
    "sns.countplot(l2)"
   ]
  },
  {
   "cell_type": "code",
   "execution_count": null,
   "id": "a4e95dea",
   "metadata": {},
   "outputs": [],
   "source": [
    "print(collection.distinct('address.country'))"
   ]
  },
  {
   "cell_type": "code",
   "execution_count": null,
   "id": "7d26bdd4",
   "metadata": {},
   "outputs": [],
   "source": []
  }
 ],
 "metadata": {
  "kernelspec": {
   "display_name": "Python 3",
   "language": "python",
   "name": "python3"
  },
  "language_info": {
   "codemirror_mode": {
    "name": "ipython",
    "version": 3
   },
   "file_extension": ".py",
   "mimetype": "text/x-python",
   "name": "python",
   "nbconvert_exporter": "python",
   "pygments_lexer": "ipython3",
   "version": "3.9.2"
  }
 },
 "nbformat": 4,
 "nbformat_minor": 5
}
